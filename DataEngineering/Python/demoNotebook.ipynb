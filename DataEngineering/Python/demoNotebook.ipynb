{
 "cells": [
  {
   "cell_type": "markdown",
   "metadata": {},
   "source": [
    "# Prime Check"
   ]
  },
  {
   "cell_type": "code",
   "execution_count": 11,
   "metadata": {},
   "outputs": [
    {
     "name": "stdout",
     "output_type": "stream",
     "text": [
      "False\n"
     ]
    }
   ],
   "source": [
    "import math\n",
    "\n",
    "def checkPrime(num):\n",
    "    if (num < 2):\n",
    "        return False\n",
    "    for i in range(2, int(math.sqrt(num) + 1)):\n",
    "        if num % i == 0:\n",
    "            return False\n",
    "    return True\n",
    "\n",
    "print(checkPrime(int(input(\"Enter a number:\"))))"
   ]
  },
  {
   "cell_type": "markdown",
   "metadata": {},
   "source": [
    "# Factorial"
   ]
  },
  {
   "cell_type": "code",
   "execution_count": 20,
   "metadata": {},
   "outputs": [
    {
     "name": "stdout",
     "output_type": "stream",
     "text": [
      "24\n"
     ]
    }
   ],
   "source": [
    "def factorial(num):\n",
    "    ret = 1\n",
    "\n",
    "    if num < 0:\n",
    "        return \"Negative numbers are not allowed\"\n",
    "\n",
    "    for i in range(1, num + 1):\n",
    "        ret *= i\n",
    "    \n",
    "    return ret\n",
    "\n",
    "print(factorial(int(input(\"Please input a number:\"))))"
   ]
  },
  {
   "cell_type": "markdown",
   "metadata": {},
   "source": [
    "# Fibonacci"
   ]
  },
  {
   "cell_type": "code",
   "execution_count": 24,
   "metadata": {},
   "outputs": [
    {
     "name": "stdout",
     "output_type": "stream",
     "text": [
      "2\n"
     ]
    }
   ],
   "source": [
    "def fibonacci(num):\n",
    "    a, b = 0, 1\n",
    "    if (num == 0):\n",
    "        return a\n",
    "    for i in range(num - 1):\n",
    "        a, b = b, a + b\n",
    "    return b\n",
    "\n",
    "print(fibonacci(int(input(\"Please input a number:\"))))"
   ]
  },
  {
   "cell_type": "markdown",
   "metadata": {},
   "source": [
    "# Average and St. Dev."
   ]
  },
  {
   "cell_type": "code",
   "execution_count": 25,
   "metadata": {},
   "outputs": [
    {
     "name": "stdout",
     "output_type": "stream",
     "text": [
      "Average:  5.00  Standard Deviation:  0.00\n"
     ]
    }
   ],
   "source": [
    "import math\n",
    "\n",
    "nums = [1, 2, 3, 4, 5, 6, 7, 8, 9]\n",
    "sum = 0\n",
    "\n",
    "for num in nums:\n",
    "    sum += num\n",
    "\n",
    "avg = sum / len(nums)\n",
    "\n",
    "variance = 0\n",
    "for num in nums:\n",
    "    variance += num - avg\n",
    "variance /= len(nums)\n",
    "stdev = math.sqrt(variance)\n",
    "\n",
    "print(f\"Average: {avg: .2f}  Standard Deviation: {stdev: .2f}\")"
   ]
  },
  {
   "cell_type": "markdown",
   "metadata": {},
   "source": [
    "# Palindrome"
   ]
  },
  {
   "cell_type": "code",
   "execution_count": 28,
   "metadata": {},
   "outputs": [
    {
     "name": "stdout",
     "output_type": "stream",
     "text": [
      "True\n"
     ]
    }
   ],
   "source": [
    "def isPalindrome(entry):\n",
    "    return True if entry == entry[::-1] else False\n",
    "\n",
    "print(isPalindrome(input(\"Input a word:\")))"
   ]
  },
  {
   "cell_type": "markdown",
   "metadata": {},
   "source": [
    "# DateTime"
   ]
  },
  {
   "cell_type": "code",
   "execution_count": 34,
   "metadata": {},
   "outputs": [],
   "source": [
    "import datetime\n",
    "\n",
    "tmrw = datetime.date(2022, 8, 27)\n",
    "td = datetime.date.today()"
   ]
  },
  {
   "cell_type": "code",
   "execution_count": 35,
   "metadata": {},
   "outputs": [
    {
     "data": {
      "text/plain": [
       "5"
      ]
     },
     "execution_count": 35,
     "metadata": {},
     "output_type": "execute_result"
    }
   ],
   "source": [
    "#sunday=0, saturday=6\n",
    "td.isoweekday()"
   ]
  },
  {
   "cell_type": "code",
   "execution_count": 36,
   "metadata": {},
   "outputs": [
    {
     "data": {
      "text/plain": [
       "datetime.timedelta(days=9460)"
      ]
     },
     "execution_count": 36,
     "metadata": {},
     "output_type": "execute_result"
    }
   ],
   "source": [
    "bday = datetime.date(1996, 10, 1)\n",
    "td - bday"
   ]
  },
  {
   "cell_type": "code",
   "execution_count": 37,
   "metadata": {},
   "outputs": [
    {
     "data": {
      "text/plain": [
       "10"
      ]
     },
     "execution_count": 37,
     "metadata": {},
     "output_type": "execute_result"
    }
   ],
   "source": [
    "bday.month"
   ]
  },
  {
   "cell_type": "code",
   "execution_count": 43,
   "metadata": {},
   "outputs": [
    {
     "data": {
      "text/plain": [
       "datetime.datetime(2022, 8, 26, 15, 57, 57, 304658)"
      ]
     },
     "execution_count": 43,
     "metadata": {},
     "output_type": "execute_result"
    }
   ],
   "source": [
    "whatWasOnceNow = datetime.datetime.now()\n",
    "whatWasOnceNow"
   ]
  },
  {
   "cell_type": "markdown",
   "metadata": {},
   "source": [
    "# Rotate List"
   ]
  },
  {
   "cell_type": "code",
   "execution_count": 8,
   "metadata": {},
   "outputs": [
    {
     "name": "stdout",
     "output_type": "stream",
     "text": [
      "Rotated List: ['4', '5', '1', '2', '3']\n",
      "Original List: ['1', '2', '3', '4', '5']\n"
     ]
    }
   ],
   "source": [
    "def rotateList(ls, k):\n",
    "    retList = ls.copy()\n",
    "    for i in range(k):\n",
    "        retList.insert(0, retList.pop())\n",
    "    return retList\n",
    "\n",
    "ls = input(\"Enter a list of numbers separated by spaces: \").split(\" \")\n",
    "k = int(input(\"Enter number of list rotations: \"))\n",
    "print(f\"Rotated List: {rotateList(ls, k)}\")\n",
    "print(f\"Original List: {ls}\")\n"
   ]
  },
  {
   "cell_type": "markdown",
   "metadata": {},
   "source": [
    "# Ascending Check\n",
    "Returns true if all elements are in ascending order"
   ]
  },
  {
   "cell_type": "code",
   "execution_count": null,
   "metadata": {},
   "outputs": [
    {
     "ename": "",
     "evalue": "",
     "output_type": "error",
     "traceback": [
      "\u001b[1;31mRunning cells with 'Python 3.10.6 64-bit (windows store)' requires ipykernel package.\n",
      "\u001b[1;31mRun the following command to install 'ipykernel' into the Python environment. \n",
      "\u001b[1;31mCommand: 'c:/Users/monke/AppData/Local/Microsoft/WindowsApps/python3.10.exe -m pip install ipykernel -U --user --force-reinstall'"
     ]
    }
   ],
   "source": [
    "def ascending(ls):\n",
    "    if (len(ls) == 0): # Empty List?\n",
    "        return True\n",
    "    prevNum = ls[0]\n",
    "    for i in range(1, len(ls)):\n",
    "        if (ls[i] < prevNum):\n",
    "            return False\n",
    "        prevNum = ls[i]\n",
    "    return True\n",
    "\n",
    "ls = input(\"Enter a list of numbers separated by spaces: \").split(\" \")\n",
    "print(\"The list is in ascending order\" if ascending(ls) else \"The list is not in ascending order\")"
   ]
  }
 ],
 "metadata": {
  "kernelspec": {
   "display_name": "Python 3.10.6 64-bit (windows store)",
   "language": "python",
   "name": "python3"
  },
  "language_info": {
   "codemirror_mode": {
    "name": "ipython",
    "version": 3
   },
   "file_extension": ".py",
   "mimetype": "text/x-python",
   "name": "python",
   "nbconvert_exporter": "python",
   "pygments_lexer": "ipython3",
   "version": "3.10.6"
  },
  "orig_nbformat": 4,
  "vscode": {
   "interpreter": {
    "hash": "130747333d49cdeb37cc14afd0098d592246fe07bceeff4b4453ad36f0aae6a8"
   }
  }
 },
 "nbformat": 4,
 "nbformat_minor": 2
}
