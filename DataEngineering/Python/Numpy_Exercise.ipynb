{
 "cells": [
  {
   "cell_type": "code",
   "execution_count": 2,
   "metadata": {},
   "outputs": [],
   "source": [
    "import numpy as np"
   ]
  },
  {
   "cell_type": "markdown",
   "metadata": {},
   "source": [
    "# Numpy Exercise Solution\n",
    "###### Solutions by Jacob Caggese"
   ]
  },
  {
   "cell_type": "markdown",
   "metadata": {},
   "source": [
    "#### 1. Create a numpy array with the number of elements equals your age. The value of array elements is a random number between 10 to your age "
   ]
  },
  {
   "cell_type": "code",
   "execution_count": 8,
   "metadata": {},
   "outputs": [
    {
     "data": {
      "text/plain": [
       "array([18, 22, 13, 23, 16, 13, 10, 15, 21, 19, 10, 13, 13, 15, 17, 20, 11,\n",
       "       12, 17, 22, 23, 12, 20, 10, 18])"
      ]
     },
     "execution_count": 8,
     "metadata": {},
     "output_type": "execute_result"
    }
   ],
   "source": [
    "np.random.randint(10,25,25)"
   ]
  },
  {
   "cell_type": "markdown",
   "metadata": {},
   "source": [
    "#### 2. Create a numpy array between 1 to 50 with the span(space) of 2 and print the length of the array"
   ]
  },
  {
   "cell_type": "code",
   "execution_count": 7,
   "metadata": {},
   "outputs": [
    {
     "data": {
      "text/plain": [
       "25"
      ]
     },
     "execution_count": 7,
     "metadata": {},
     "output_type": "execute_result"
    }
   ],
   "source": [
    "numArray = np.arange(1, 50, 2)\n",
    "len(numArray)"
   ]
  },
  {
   "cell_type": "markdown",
   "metadata": {},
   "source": [
    "#### 3. Create an equally spaced numpy array with 27 elements between 4 and 7 "
   ]
  },
  {
   "cell_type": "code",
   "execution_count": 10,
   "metadata": {},
   "outputs": [
    {
     "data": {
      "text/plain": [
       "array([4.        , 4.11538462, 4.23076923, 4.34615385, 4.46153846,\n",
       "       4.57692308, 4.69230769, 4.80769231, 4.92307692, 5.03846154,\n",
       "       5.15384615, 5.26923077, 5.38461538, 5.5       , 5.61538462,\n",
       "       5.73076923, 5.84615385, 5.96153846, 6.07692308, 6.19230769,\n",
       "       6.30769231, 6.42307692, 6.53846154, 6.65384615, 6.76923077,\n",
       "       6.88461538, 7.        ])"
      ]
     },
     "execution_count": 10,
     "metadata": {},
     "output_type": "execute_result"
    }
   ],
   "source": [
    "np.linspace(4, 7, 27)"
   ]
  },
  {
   "cell_type": "markdown",
   "metadata": {},
   "source": [
    "#### 4. Create a matrix of size (5 x 4) with random numbers and round off the each elements by only 2 fractional points."
   ]
  },
  {
   "cell_type": "code",
   "execution_count": 14,
   "metadata": {},
   "outputs": [
    {
     "data": {
      "text/plain": [
       "array([[0.49, 0.23, 0.25, 0.84],\n",
       "       [0.13, 0.67, 0.8 , 0.92],\n",
       "       [0.02, 0.47, 0.15, 0.12],\n",
       "       [0.7 , 0.57, 0.17, 0.28],\n",
       "       [0.58, 0.33, 0.44, 0.33]])"
      ]
     },
     "execution_count": 14,
     "metadata": {},
     "output_type": "execute_result"
    }
   ],
   "source": [
    "np.random.random((5,4)).round(2)"
   ]
  },
  {
   "cell_type": "markdown",
   "metadata": {},
   "source": [
    "#### 5. Create a matrix of size (5x5) with random integers between 5 to 15"
   ]
  },
  {
   "cell_type": "code",
   "execution_count": 15,
   "metadata": {},
   "outputs": [
    {
     "data": {
      "text/plain": [
       "array([[ 5,  9, 11, 11, 14],\n",
       "       [ 9,  6, 13, 13,  9],\n",
       "       [ 9, 10,  6, 13, 13],\n",
       "       [11, 12,  5, 12,  8],\n",
       "       [ 5, 10, 12, 13, 11]])"
      ]
     },
     "execution_count": 15,
     "metadata": {},
     "output_type": "execute_result"
    }
   ],
   "source": [
    "np.random.randint(5, 15, (5,5))"
   ]
  },
  {
   "cell_type": "markdown",
   "metadata": {},
   "source": [
    "#### 6. Create the one dimensional array of zeros of random length below 20 with the data type int32"
   ]
  },
  {
   "cell_type": "code",
   "execution_count": 21,
   "metadata": {},
   "outputs": [
    {
     "data": {
      "text/plain": [
       "array([0, 0, 0, 0, 0, 0, 0, 0, 0, 0, 0])"
      ]
     },
     "execution_count": 21,
     "metadata": {},
     "output_type": "execute_result"
    }
   ],
   "source": [
    "np.zeros(np.random.randint(20),dtype='int32')\n"
   ]
  },
  {
   "cell_type": "markdown",
   "metadata": {},
   "source": [
    "#### 7. Create a two dimensional array of ones of random row and column lengths with the data type of float32 "
   ]
  },
  {
   "cell_type": "code",
   "execution_count": 28,
   "metadata": {},
   "outputs": [
    {
     "data": {
      "text/plain": [
       "array([[1., 1., 1., 1.],\n",
       "       [1., 1., 1., 1.]], dtype=float32)"
      ]
     },
     "execution_count": 28,
     "metadata": {},
     "output_type": "execute_result"
    }
   ],
   "source": [
    "np.ones((np.random.randint(1, 10),np.random.randint(1, 10)), dtype='float32')\n"
   ]
  },
  {
   "cell_type": "markdown",
   "metadata": {},
   "source": [
    "#### 8. Create a matrix exactly as same as shown below and print its shape, type and dtype"
   ]
  },
  {
   "cell_type": "code",
   "execution_count": 3,
   "metadata": {},
   "outputs": [
    {
     "name": "stdout",
     "output_type": "stream",
     "text": [
      "[[ 9 25 50 34 45]\n",
      " [ 3 34 34 65  2]\n",
      " [ 5  7  3 76  3]\n",
      " [ 7  8  6 54  6]\n",
      " [23 12  8  5  6]]\n",
      "Shape: (5, 5)\tDtype: int32\tType: <class 'numpy.matrix'>\n"
     ]
    }
   ],
   "source": [
    "mtx = np.matrix(\n",
    "    [[9, 25, 50, 34, 45],\n",
    "    [3, 34, 34, 65, 2],\n",
    "    [5, 7, 3, 76, 3],\n",
    "    [7, 8, 6, 54, 6],\n",
    "    [23, 12, 8, 5, 6]], dtype='int')\n",
    "print(mtx)\n",
    "print(f\"Shape: {mtx.shape}\\tDtype: {mtx.dtype}\\tType: {type(mtx)}\")\n"
   ]
  },
  {
   "cell_type": "markdown",
   "metadata": {},
   "source": [
    "#### 9. Access the center pixel of the matrix defined in the question no 8 ( Don't enter the row and column index explicitely)"
   ]
  },
  {
   "cell_type": "code",
   "execution_count": 44,
   "metadata": {},
   "outputs": [
    {
     "data": {
      "text/plain": [
       "3"
      ]
     },
     "execution_count": 44,
     "metadata": {},
     "output_type": "execute_result"
    }
   ],
   "source": [
    "size = mtx.shape\n",
    "mtx[int(size[0]/2), int(size[1]/2)]\n"
   ]
  },
  {
   "cell_type": "markdown",
   "metadata": {},
   "source": [
    "#### 10. Print the all the elements of 3rd row of the matrix"
   ]
  },
  {
   "cell_type": "code",
   "execution_count": 45,
   "metadata": {},
   "outputs": [
    {
     "data": {
      "text/plain": [
       "matrix([[ 5,  7,  3, 76,  3]])"
      ]
     },
     "execution_count": 45,
     "metadata": {},
     "output_type": "execute_result"
    }
   ],
   "source": [
    "mtx[2]\n"
   ]
  },
  {
   "cell_type": "markdown",
   "metadata": {},
   "source": [
    "#### 11. Print the all the elements of 4th columns of the matrix"
   ]
  },
  {
   "cell_type": "code",
   "execution_count": 51,
   "metadata": {},
   "outputs": [
    {
     "data": {
      "text/plain": [
       "matrix([[34],\n",
       "        [65],\n",
       "        [76],\n",
       "        [54],\n",
       "        [ 5]])"
      ]
     },
     "execution_count": 51,
     "metadata": {},
     "output_type": "execute_result"
    }
   ],
   "source": [
    "mtx[:,3]\n"
   ]
  },
  {
   "cell_type": "markdown",
   "metadata": {},
   "source": [
    "#### 12. Print the 4 corner pixels of the matrix"
   ]
  },
  {
   "cell_type": "code",
   "execution_count": 53,
   "metadata": {},
   "outputs": [
    {
     "name": "stdout",
     "output_type": "stream",
     "text": [
      "9,45,23,6\n"
     ]
    }
   ],
   "source": [
    "print(f\"{mtx[0,0]},{mtx[0,size[1]-1]},{mtx[size[0]-1,0]},{mtx[size[0]-1,size[1]-1]}\")"
   ]
  },
  {
   "cell_type": "markdown",
   "metadata": {},
   "source": [
    "#### 13. Create three matrix m1,m2,m3 with the elements grouped in the figure below"
   ]
  },
  {
   "cell_type": "code",
   "execution_count": 79,
   "metadata": {},
   "outputs": [
    {
     "name": "stdout",
     "output_type": "stream",
     "text": [
      "[[50 34]\n",
      " [34 65]]\n",
      "[[ 7  8]\n",
      " [23 12]]\n",
      "[[ 3 76  3]\n",
      " [ 6 54  6]\n",
      " [ 8  5  6]]\n"
     ]
    }
   ],
   "source": [
    "m1 = mtx[0:2,2:4]\n",
    "m2 = mtx[3:, 0:2]\n",
    "m3 = mtx[2:,2:]\n",
    "\n",
    "print(m1,m2,m3,sep='\\n')"
   ]
  },
  {
   "cell_type": "markdown",
   "metadata": {},
   "source": [
    "#### 14. Reshape all the three matrix segmented in the above task in to three  1-dimensional vector."
   ]
  },
  {
   "cell_type": "code",
   "execution_count": 71,
   "metadata": {},
   "outputs": [
    {
     "name": "stdout",
     "output_type": "stream",
     "text": [
      "[[50 34 34 65]]\n",
      "[[ 7  8 23 12]]\n",
      "[[ 3 76  3  6 54  6  8  5  6]]\n"
     ]
    }
   ],
   "source": [
    "print(m1.flatten(),m2.flatten(),m3.flatten(),sep='\\n')"
   ]
  },
  {
   "cell_type": "markdown",
   "metadata": {},
   "source": [
    "#### 15. Concatenate the matrix m1 and m2 in both vertical and horizontal direction"
   ]
  },
  {
   "cell_type": "code",
   "execution_count": 87,
   "metadata": {},
   "outputs": [
    {
     "name": "stdout",
     "output_type": "stream",
     "text": [
      "[[50 34]\n",
      " [34 65]\n",
      " [ 7  8]\n",
      " [23 12]]\n",
      "[[50 34  7  8]\n",
      " [34 65 23 12]]\n"
     ]
    }
   ],
   "source": [
    "print(np.concatenate((m1, m2)))\n",
    "print(np.concatenate((m1, m2), axis=1))\n"
   ]
  },
  {
   "cell_type": "markdown",
   "metadata": {},
   "source": [
    "#### 16. Add, Subtract, multiply, divide the matrixes m1 and m2"
   ]
  },
  {
   "cell_type": "code",
   "execution_count": 89,
   "metadata": {},
   "outputs": [
    {
     "name": "stdout",
     "output_type": "stream",
     "text": [
      "Addition:\n",
      "[[57 42]\n",
      " [57 77]]\n",
      "Subtraction:\n",
      "[[43 26]\n",
      " [11 53]]\n",
      "Division:\n",
      "[[7.14285714 4.25      ]\n",
      " [1.47826087 5.41666667]]\n",
      " Multiplication:\n",
      "[[350 272]\n",
      " [782 780]]\n"
     ]
    }
   ],
   "source": [
    "# Solution\n",
    "print(f\"Addition:\\n{m1 + m2}\\nSubtraction:\\n{m1 - m2}\\nDivision:\\n{m1 / m2}\\n Multiplication:\\n{m1 * m2}\")"
   ]
  },
  {
   "cell_type": "markdown",
   "metadata": {},
   "source": [
    "#### 17. Add the m1 with m3 by removing the first row and last column of m3"
   ]
  },
  {
   "cell_type": "code",
   "execution_count": 92,
   "metadata": {},
   "outputs": [
    {
     "data": {
      "text/plain": [
       "array([[56, 88],\n",
       "       [42, 70]])"
      ]
     },
     "execution_count": 92,
     "metadata": {},
     "output_type": "execute_result"
    }
   ],
   "source": [
    "m1 + m3[1:,:2]\n"
   ]
  },
  {
   "cell_type": "markdown",
   "metadata": {},
   "source": [
    "#### 18. Form the matrix m4 by concatenating (as a new row) the vector [me1, me2] with the matrix m1, where me1 and me2 are the mean values of each column on m1."
   ]
  },
  {
   "cell_type": "code",
   "execution_count": 106,
   "metadata": {},
   "outputs": [
    {
     "data": {
      "text/plain": [
       "matrix([[42. , 49.5],\n",
       "        [50. , 34. ],\n",
       "        [34. , 65. ]])"
      ]
     },
     "execution_count": 106,
     "metadata": {},
     "output_type": "execute_result"
    }
   ],
   "source": [
    "m4 = np.concatenate((np.matrix(m1.mean(0)), m1))\n",
    "m4"
   ]
  },
  {
   "cell_type": "markdown",
   "metadata": {},
   "source": [
    "#### 19. Perform the matrix multiplication between m3 and m4"
   ]
  },
  {
   "cell_type": "code",
   "execution_count": 109,
   "metadata": {},
   "outputs": [
    {
     "data": {
      "text/plain": [
       "matrix([[4028. , 2927.5],\n",
       "        [3156. , 2523. ],\n",
       "        [ 790. ,  956. ]])"
      ]
     },
     "execution_count": 109,
     "metadata": {},
     "output_type": "execute_result"
    }
   ],
   "source": [
    "m3 * m4\n",
    "\n"
   ]
  },
  {
   "cell_type": "markdown",
   "metadata": {},
   "source": [
    "#### 20. Compute the maximum and minimum value of mean, variance, standard deviation for each row of matrix created in question number 8."
   ]
  },
  {
   "cell_type": "code",
   "execution_count": 112,
   "metadata": {},
   "outputs": [
    {
     "name": "stdout",
     "output_type": "stream",
     "text": [
      "Means:\n",
      "[[32.6]\n",
      " [27.6]\n",
      " [18.8]\n",
      " [16.2]\n",
      " [10.8]]\n",
      "Variance:\n",
      "[[214.64]\n",
      " [548.24]\n",
      " [820.16]\n",
      " [357.76]\n",
      " [ 42.96]]\n",
      "Standard Deviation:\n",
      "[[14.65059726]\n",
      " [23.41452541]\n",
      " [28.63843571]\n",
      " [18.91454467]\n",
      " [ 6.55438784]]\n"
     ]
    }
   ],
   "source": [
    "print(f\"Means:\\n{mtx.mean(1)}\\nVariance:\\n{mtx.var(1)}\\nStandard Deviation:\\n{mtx.std(1)}\")"
   ]
  },
  {
   "cell_type": "markdown",
   "metadata": {},
   "source": [
    "#### 21. Compute the average and strike rate for each player and sort it decending way (seperately for avg and strike rate)"
   ]
  },
  {
   "cell_type": "code",
   "execution_count": 31,
   "metadata": {},
   "outputs": [
    {
     "name": "stdout",
     "output_type": "stream",
     "text": [
      "[[['Rahul' '162.99554686651462']]\n",
      "\n",
      " [['MSD' '94.91125541125541']]\n",
      "\n",
      " [['Kholi' '81.69675642594859']]\n",
      "\n",
      " [['Rohit' '62.17703913248468']]\n",
      "\n",
      " [['Dhawan' '47.96296296296296']]]\n"
     ]
    }
   ],
   "source": [
    "# Don't understand the question (How to calculate the values)\n",
    "# strike = run / ball * 100\n",
    "runs_scored = np.array([\n",
    "    ['MSD',54,60,10,65],\n",
    "    ['Kholi',102,2,78,32],\n",
    "    ['Rohit',3,110,1,92],\n",
    "    ['Rahul',56,6,12,42],\n",
    "    ['Dhawan',12,8,22,11]\n",
    "])\n",
    "\n",
    "balls_faced = np.array([\n",
    "    ['MSD',50,42,22,78],\n",
    "    ['Kholi',95,8,65,43],\n",
    "    ['Rohit',9,100,7,101],\n",
    "    ['Rahul',27,3,11,31],\n",
    "    ['Dhawan',24,20,36,27]\n",
    "\n",
    "])\n",
    "\n",
    "strike = runs_scored[:,1:].astype('int32') / balls_faced[:,1:].astype('int32') * 100\n",
    "sr = strike.mean(axis=1).reshape(5,1)\n",
    "averages = np.concatenate([balls_faced[:,0].reshape(5,1), sr], axis=1)\n",
    "\n",
    "ind = sr.argsort(axis=0) #ascending\n",
    "\n",
    "print(averages[ind,:][::-1])"
   ]
  },
  {
   "cell_type": "markdown",
   "metadata": {},
   "source": [
    "#### 22. The students mark was recorded in a numpy array: marks = np.array([65,84,47,56,89,98,48,77,80,39]).  Cutoff for pass is 50 marks. Write the logic to print the number of students passed and failed. "
   ]
  },
  {
   "cell_type": "code",
   "execution_count": 36,
   "metadata": {},
   "outputs": [
    {
     "name": "stdout",
     "output_type": "stream",
     "text": [
      "Passed: 7\tFailed: 3\n"
     ]
    }
   ],
   "source": [
    "marks = np.array([65,84,47,56,89,98,48,77,80,39])\n",
    "passed, failed = 0, 0\n",
    "for mark in marks:\n",
    "    if mark < 50:\n",
    "        failed += 1\n",
    "    else:\n",
    "        passed += 1\n",
    "passPercentage = passed / len(marks) * 100\n",
    "print(f\"Passed: {passed}\\tFailed: {failed}\")\n",
    "\n",
    "#NumPy method\n",
    "# pass_std= np.where(marks>50)\n",
    "# pass_marks=marks[pass_std]\n",
    "# fail_std= np.where(marks<50)\n",
    "# fail_marks=marks[fail_std]\n",
    "# print(len(fail_marks))"
   ]
  },
  {
   "cell_type": "markdown",
   "metadata": {},
   "source": [
    "#### 23. The class incharge decided to give a mercy mark of 5 for those who scored between 45 and 49. Also the bonus of 5 marks awarded to the students who scored more than 80. Print all the student marks and compute the increase in the pass percentage of class. Any score more than 100 must be recorded as only 100."
   ]
  },
  {
   "cell_type": "code",
   "execution_count": 37,
   "metadata": {},
   "outputs": [
    {
     "name": "stdout",
     "output_type": "stream",
     "text": [
      "[65, 89, 52, 56, 94, 100, 53, 77, 80, 39]\n",
      "Increase in pass percentage: 70.0%->90.0% (+20.0%)\n"
     ]
    }
   ],
   "source": [
    "curvedMarks = []\n",
    "passPostCurve, failPostCurve = 0, 0\n",
    "\n",
    "for mark in marks:\n",
    "    if mark >= 95:\n",
    "        curvedMarks.append(100)\n",
    "        passPostCurve += 1\n",
    "    elif mark > 80:\n",
    "        curvedMarks.append(mark + 5)\n",
    "        passPostCurve += 1\n",
    "    elif mark >= 45 and mark <= 49:\n",
    "        curvedMarks.append(mark + 5)\n",
    "        passPostCurve += 1\n",
    "    else:\n",
    "        curvedMarks.append(mark)\n",
    "        if (mark < 45):\n",
    "            failPostCurve += 1\n",
    "        else:\n",
    "            passPostCurve += 1\n",
    "\n",
    "curvePassPercentage = passPostCurve / len(curvedMarks) * 100\n",
    "print(f\"{curvedMarks}\\nIncrease in pass percentage: {passPercentage}%->{curvePassPercentage}% (+{curvePassPercentage - passPercentage}%)\")\n",
    "\n",
    "#NumPy method\n",
    "# new_marks = marks.copy()\n",
    "# mercy_marks = np.where((new_marks>=45)&(new_marks<=49))\n",
    "# new_marks[mercy_marks]=new_marks[mercy_marks] + 5\n",
    "# bonus_marks = np.where((new_marks>80)&(new_marks<95))\n",
    "# new_marks[bonus_marks]=new_marks[bonus_marks] + 5\n",
    "# new_marks1 = np.where(new_marks>95)\n",
    "# new_marks[new_marks1] = 100\n",
    "# print(\"\\n actual marks: \", marks)\n",
    "# print(\"\\n new Marks of students: \", new_marks)\n",
    "# actual_pass = (len(marks[np.where(marks>=50)])/len(marks))/100\n",
    "# new_mark_out= (len(new_marks[np.where(new_marks>=50)])/len(new_marks))/100\n",
    "# inc_percent = new_mark_out-actual_pass\n",
    "# print(inc_percent,\"%\")\n"
   ]
  },
  {
   "cell_type": "markdown",
   "metadata": {},
   "source": [
    "#### 24. Print the time taken for performing the following operation using list and numpy array\n",
    "####       (x(i)^2 +8) / y(i),   where x and y are real integers from 1 to 60000"
   ]
  },
  {
   "cell_type": "code",
   "execution_count": 140,
   "metadata": {},
   "outputs": [
    {
     "name": "stdout",
     "output_type": "stream",
     "text": [
      "Python list: 708.359375ms\n",
      "Numpy array: 664.59375ms\n"
     ]
    }
   ],
   "source": [
    "# Im not sure what this is actually asking either\n",
    "# May have misinterpreted this\n",
    "import time\n",
    "start = time.process_time()\n",
    "x = list(range(1, 60000))\n",
    "y = x.copy()\n",
    "\n",
    "for i in range(59999):\n",
    "    for j in range(59999):\n",
    "        z = (x[i] ** 2 + 8) / y[j]\n",
    "stop = time.process_time()\n",
    "print(f\"Python list: {stop - start}ms\")\n",
    "\n",
    "start = time.process_time()\n",
    "x = np.array(range(1, 60000))\n",
    "y = x.copy()\n",
    "for i in range(59999):\n",
    "    for j in range(59999):\n",
    "        z = (x[i] ** 2 + 8) / y[j]\n",
    "stop = time.process_time()\n",
    "print(f\"Numpy array: {stop - start}ms\")"
   ]
  },
  {
   "cell_type": "markdown",
   "metadata": {},
   "source": [
    "The above values should be in seconds, not ms. The numpy arrays ended up being over 40 seconds faster, undoubtedly due to optimizations from numpy"
   ]
  }
 ],
 "metadata": {
  "kernelspec": {
   "display_name": "Python 3.10.6 ('demoEnv': venv)",
   "language": "python",
   "name": "python3"
  },
  "language_info": {
   "codemirror_mode": {
    "name": "ipython",
    "version": 3
   },
   "file_extension": ".py",
   "mimetype": "text/x-python",
   "name": "python",
   "nbconvert_exporter": "python",
   "pygments_lexer": "ipython3",
   "version": "3.10.6"
  },
  "vscode": {
   "interpreter": {
    "hash": "bb30b930d7bf6b6368b9f951b5ef08fd035502ae61d46f09a4e7df08b779423a"
   }
  }
 },
 "nbformat": 4,
 "nbformat_minor": 4
}
